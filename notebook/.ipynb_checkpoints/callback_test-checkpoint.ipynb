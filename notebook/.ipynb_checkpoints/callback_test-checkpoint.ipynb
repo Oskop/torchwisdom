{
 "cells": [
  {
   "cell_type": "code",
   "execution_count": 38,
   "metadata": {},
   "outputs": [
    {
     "name": "stdout",
     "output_type": "stream",
     "text": [
      "MeterCallback is calling \n",
      "ValueCallback is calling \n"
     ]
    },
    {
     "data": {
      "text/plain": [
       "{'meter': 'add new', 'value': 'add new'}"
      ]
     },
     "execution_count": 38,
     "metadata": {},
     "output_type": "execute_result"
    }
   ],
   "source": [
    "from typing import *\n",
    "\n",
    "class Callback():\n",
    "    def on_start(self, **kwargs):\n",
    "        pass\n",
    "    \n",
    "    def on_end(self, **kwargs):\n",
    "        pass\n",
    "    \n",
    "\n",
    "class CallbackHandler():\n",
    "    callbacks: Collection[Callback]\n",
    "    metrics: Collection[Callback]\n",
    "        \n",
    "    def on_start(self, **kwargs):\n",
    "        for callback in self.callbacks:\n",
    "            callback.on_start(kwargs)\n",
    "    \n",
    "class MeterCallback(Callback):\n",
    "\n",
    "    def on_start(self, kwargs):\n",
    "        train = kwargs['train']\n",
    "        train.dct['meter'] = 'add new'\n",
    "        print(\"MeterCallback is calling \")\n",
    "        \n",
    "\n",
    "class ValueCallback(Callback):\n",
    "\n",
    "    def on_start(self, kwargs):\n",
    "        train = kwargs['train']\n",
    "        train.dct['value'] = 'add new'\n",
    "        print(\"ValueCallback is calling \")\n",
    "\n",
    "        \n",
    "class Trainer(object):\n",
    "    def __init__(self, callbacks: CallbackHandler):\n",
    "        self.callbacks = callbacks\n",
    "        self.dct = {}\n",
    "        \n",
    "    def execute_start(self):\n",
    "        self.callbacks.on_start(train=self)\n",
    "\n",
    "mc = CallbackHandler()\n",
    "mc.callbacks = [MeterCallback(), ValueCallback()]\n",
    "\n",
    "tr = Train(mc)\n",
    "\n",
    "tr.execute_start()\n",
    "tr.dct\n"
   ]
  },
  {
   "cell_type": "code",
   "execution_count": 33,
   "metadata": {},
   "outputs": [
    {
     "name": "stdout",
     "output_type": "stream",
     "text": [
      "{'name': 'fandi'}\n"
     ]
    }
   ],
   "source": [
    "def test2(kwargs):\n",
    "    print(kwargs)\n",
    "    \n",
    "def test(**kwargs):\n",
    "    test2(kwargs)\n",
    "    \n",
    "test(name='fandi')"
   ]
  },
  {
   "cell_type": "code",
   "execution_count": 42,
   "metadata": {},
   "outputs": [
    {
     "name": "stdout",
     "output_type": "stream",
     "text": [
      "Ellipsis\n"
     ]
    }
   ],
   "source": [
    "a = ...\n",
    "print(a)"
   ]
  },
  {
   "cell_type": "code",
   "execution_count": 52,
   "metadata": {},
   "outputs": [],
   "source": [
    "class AMethod():\n",
    "    def __init__(self):\n",
    "        self('test','hi')\n",
    "    \n",
    "    def __call__(self, name, value):\n",
    "        \n",
    "\n",
    "a = AMethod()\n",
    "a('sum',sum)"
   ]
  },
  {
   "cell_type": "code",
   "execution_count": 44,
   "metadata": {},
   "outputs": [],
   "source": [
    "f(10)"
   ]
  },
  {
   "cell_type": "code",
   "execution_count": 46,
   "metadata": {},
   "outputs": [
    {
     "data": {
      "text/plain": [
       "[1, 2, 3, 5, 6]"
      ]
     },
     "execution_count": 46,
     "metadata": {},
     "output_type": "execute_result"
    }
   ],
   "source": [
    "a = [1,2,3]\n",
    "b = [5,6]\n",
    "a+b"
   ]
  },
  {
   "cell_type": "code",
   "execution_count": 53,
   "metadata": {},
   "outputs": [
    {
     "data": {
      "application/vnd.jupyter.widget-view+json": {
       "model_id": "ecd3b50e8c1742c4839ddb449681fd6e",
       "version_major": 2,
       "version_minor": 0
      },
      "text/plain": [
       "IntProgress(value=0)"
      ]
     },
     "metadata": {},
     "output_type": "display_data"
    }
   ],
   "source": [
    "from ipywidgets import IntProgress\n",
    "from IPython.display import display\n",
    "import time\n",
    "\n",
    "max_count = 100\n",
    "\n",
    "f = IntProgress(min=0, max=max_count) # instantiate the bar\n",
    "display(f) # display the bar\n",
    "\n",
    "count = 0\n",
    "while count <= max_count:\n",
    "    f.value += 1 # signal to increment the progress bar\n",
    "    time.sleep(.1)\n",
    "    count += 1"
   ]
  },
  {
   "cell_type": "code",
   "execution_count": null,
   "metadata": {},
   "outputs": [],
   "source": []
  }
 ],
 "metadata": {
  "kernelspec": {
   "display_name": "Python 3",
   "language": "python",
   "name": "python3"
  },
  "language_info": {
   "codemirror_mode": {
    "name": "ipython",
    "version": 3
   },
   "file_extension": ".py",
   "mimetype": "text/x-python",
   "name": "python",
   "nbconvert_exporter": "python",
   "pygments_lexer": "ipython3",
   "version": "3.7.3"
  }
 },
 "nbformat": 4,
 "nbformat_minor": 2
}
