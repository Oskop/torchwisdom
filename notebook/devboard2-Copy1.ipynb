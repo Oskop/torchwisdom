{
 "cells": [
  {
   "cell_type": "code",
   "execution_count": 4,
   "metadata": {},
   "outputs": [
    {
     "name": "stdout",
     "output_type": "stream",
     "text": [
      "The autoreload extension is already loaded. To reload it, use:\n",
      "  %reload_ext autoreload\n"
     ]
    }
   ],
   "source": [
    "%matplotlib inline\n",
    "%load_ext autoreload\n",
    "%autoreload 2"
   ]
  },
  {
   "cell_type": "code",
   "execution_count": 23,
   "metadata": {},
   "outputs": [
    {
     "data": {
      "text/html": [
       "Total time: 00:11 <p><table border=\"1\" class=\"dataframe\">\n",
       "  <thead>\n",
       "    <tr style=\"text-align: left;\">\n",
       "      <th>epoch</th>\n",
       "      <th>trn_loss</th>\n",
       "      <th>val_loss</th>\n",
       "      <th>trn_acc</th>\n",
       "      <th>val_acc</th>\n",
       "      <th>time</th>\n",
       "      <th>remain</th>\n",
       "    </tr>\n",
       "  </thead>\n",
       "  <tbody>\n",
       "    <tr>\n",
       "      <td>1</td>\n",
       "      <td>3.864866</td>\n",
       "      <td>3.730545</td>\n",
       "      <td>0.031250</td>\n",
       "      <td>0.015625</td>\n",
       "      <td>0:00:00.40</td>\n",
       "      <td>0:00:07.63</td>\n",
       "    </tr>\n",
       "    <tr>\n",
       "      <td>2</td>\n",
       "      <td>3.708312</td>\n",
       "      <td>3.704665</td>\n",
       "      <td>0.041667</td>\n",
       "      <td>0.054688</td>\n",
       "      <td>0:00:00.40</td>\n",
       "      <td>0:00:07.22</td>\n",
       "    </tr>\n",
       "    <tr>\n",
       "      <td>3</td>\n",
       "      <td>3.654943</td>\n",
       "      <td>3.336118</td>\n",
       "      <td>0.048958</td>\n",
       "      <td>0.156250</td>\n",
       "      <td>0:00:00.38</td>\n",
       "      <td>0:00:06.46</td>\n",
       "    </tr>\n",
       "    <tr>\n",
       "      <td>4</td>\n",
       "      <td>3.206449</td>\n",
       "      <td>2.679714</td>\n",
       "      <td>0.142708</td>\n",
       "      <td>0.187500</td>\n",
       "      <td>0:00:00.42</td>\n",
       "      <td>0:00:06.83</td>\n",
       "    </tr>\n",
       "    <tr>\n",
       "      <td>5</td>\n",
       "      <td>2.369012</td>\n",
       "      <td>2.073646</td>\n",
       "      <td>0.288542</td>\n",
       "      <td>0.359375</td>\n",
       "      <td>0:00:00.40</td>\n",
       "      <td>0:00:06.05</td>\n",
       "    </tr>\n",
       "    <tr>\n",
       "      <td>6</td>\n",
       "      <td>1.658162</td>\n",
       "      <td>1.609706</td>\n",
       "      <td>0.450000</td>\n",
       "      <td>0.406250</td>\n",
       "      <td>0:00:00.38</td>\n",
       "      <td>0:00:05.30</td>\n",
       "    </tr>\n",
       "    <tr>\n",
       "      <td>7</td>\n",
       "      <td>1.276675</td>\n",
       "      <td>1.265242</td>\n",
       "      <td>0.592708</td>\n",
       "      <td>0.632812</td>\n",
       "      <td>0:00:00.41</td>\n",
       "      <td>0:00:05.50</td>\n",
       "    </tr>\n",
       "    <tr>\n",
       "      <td>8</td>\n",
       "      <td>0.697408</td>\n",
       "      <td>1.035744</td>\n",
       "      <td>0.735417</td>\n",
       "      <td>0.679688</td>\n",
       "      <td>0:00:00.41</td>\n",
       "      <td>0:00:05.09</td>\n",
       "    </tr>\n",
       "    <tr>\n",
       "      <td>9</td>\n",
       "      <td>0.631069</td>\n",
       "      <td>0.954556</td>\n",
       "      <td>0.773958</td>\n",
       "      <td>0.679688</td>\n",
       "      <td>0:00:00.41</td>\n",
       "      <td>0:00:04.63</td>\n",
       "    </tr>\n",
       "    <tr>\n",
       "      <td>10</td>\n",
       "      <td>0.418376</td>\n",
       "      <td>1.361569</td>\n",
       "      <td>0.842708</td>\n",
       "      <td>0.687500</td>\n",
       "      <td>0:00:00.43</td>\n",
       "      <td>0:00:04.69</td>\n",
       "    </tr>\n",
       "    <tr>\n",
       "      <td>11</td>\n",
       "      <td>0.392378</td>\n",
       "      <td>0.788972</td>\n",
       "      <td>0.866667</td>\n",
       "      <td>0.843750</td>\n",
       "      <td>0:00:00.40</td>\n",
       "      <td>0:00:03.69</td>\n",
       "    </tr>\n",
       "    <tr>\n",
       "      <td>12</td>\n",
       "      <td>0.307752</td>\n",
       "      <td>0.529267</td>\n",
       "      <td>0.891667</td>\n",
       "      <td>0.828125</td>\n",
       "      <td>0:00:00.44</td>\n",
       "      <td>0:00:03.91</td>\n",
       "    </tr>\n",
       "    <tr>\n",
       "      <td>13</td>\n",
       "      <td>0.196304</td>\n",
       "      <td>0.447663</td>\n",
       "      <td>0.951042</td>\n",
       "      <td>0.859375</td>\n",
       "      <td>0:00:00.45</td>\n",
       "      <td>0:00:03.71</td>\n",
       "    </tr>\n",
       "    <tr>\n",
       "      <td>14</td>\n",
       "      <td>0.097731</td>\n",
       "      <td>0.339356</td>\n",
       "      <td>0.984375</td>\n",
       "      <td>0.898438</td>\n",
       "      <td>0:00:00.43</td>\n",
       "      <td>0:00:02.81</td>\n",
       "    </tr>\n",
       "    <tr>\n",
       "      <td>15</td>\n",
       "      <td>0.094748</td>\n",
       "      <td>0.526535</td>\n",
       "      <td>0.991667</td>\n",
       "      <td>0.843750</td>\n",
       "      <td>0:00:00.41</td>\n",
       "      <td>0:00:02.10</td>\n",
       "    </tr>\n",
       "    <tr>\n",
       "      <td>16</td>\n",
       "      <td>0.044451</td>\n",
       "      <td>0.461995</td>\n",
       "      <td>0.993750</td>\n",
       "      <td>0.875000</td>\n",
       "      <td>0:00:00.40</td>\n",
       "      <td>0:00:01.47</td>\n",
       "    </tr>\n",
       "    <tr>\n",
       "      <td>17</td>\n",
       "      <td>0.036510</td>\n",
       "      <td>0.338418</td>\n",
       "      <td>0.988542</td>\n",
       "      <td>0.929688</td>\n",
       "      <td>0:00:00.39</td>\n",
       "      <td>0:00:00.93</td>\n",
       "    </tr>\n",
       "    <tr>\n",
       "      <td>18</td>\n",
       "      <td>0.012215</td>\n",
       "      <td>0.259520</td>\n",
       "      <td>1.000000</td>\n",
       "      <td>0.960938</td>\n",
       "      <td>0:00:00.39</td>\n",
       "      <td>0:00:00.49</td>\n",
       "    </tr>\n",
       "    <tr>\n",
       "      <td>19</td>\n",
       "      <td>0.009483</td>\n",
       "      <td>0.306416</td>\n",
       "      <td>1.000000</td>\n",
       "      <td>0.953125</td>\n",
       "      <td>0:00:00.38</td>\n",
       "      <td>0:0</td>\n",
       "    </tr>\n",
       "    <tr>\n",
       "      <td>20</td>\n",
       "      <td>0.006427</td>\n",
       "      <td>0.328962</td>\n",
       "      <td>1.000000</td>\n",
       "      <td>0.929688</td>\n",
       "      <td>0:00:00.42</td>\n",
       "      <td>0:00:00.26</td>\n",
       "    </tr>\n",
       "  </tbody>\n",
       "</table>"
      ],
      "text/plain": [
       "<IPython.core.display.HTML object>"
      ]
     },
     "metadata": {},
     "output_type": "display_data"
    },
    {
     "data": {
      "image/png": "[encoded data removed]",
      "text/plain": [
       "<Figure size 432x288 with 1 Axes>"
      ]
     },
     "metadata": {},
     "output_type": "display_data"
    }
   ],
   "source": [
    "from torchwisdom.metrics.callback import *\n",
    "from torchwisdom.optim.callback import *\n",
    "from torchwisdom.metrics import *\n",
    "from torchwisdom.callback import *\n",
    "from torchwisdom.statemgr.callback import StateManagerCallback\n",
    "from torchwisdom.utils.data.collector import *\n",
    "from torch.optim.optimizer import Optimizer\n",
    "from torchwisdom.trainer import *\n",
    "from torchwisdom.vision.trainer.trainer import *\n",
    "\n",
    "from torchwisdom.vision.models import mobilenetv2\n",
    "from torchwisdom.vision.trainer.trainer import *\n",
    "from torchvision.datasets.mnist import MNIST\n",
    "import torchvision.transforms as transforms\n",
    "from torchwisdom.utils.data.collector import DatasetCollector\n",
    "import torch.optim as optim\n",
    "import torch.nn as nn\n",
    "from torchwisdom.vision.trainer.trainer import ConvTrainer\n",
    "from torchwisdom.vision.models.simplecnn import SimpleCNN\n",
    "from torchvision import datasets\n",
    "from torchwisdom.metrics.callback import *\n",
    "\n",
    "\n",
    "tmft = transforms.Compose([\n",
    "    transforms.Resize((32,32)),\n",
    "    transforms.Grayscale(),\n",
    "    transforms.ToTensor()\n",
    "])\n",
    "\n",
    "# train_path = '/data/MNIST/train'\n",
    "# valid_path = '/data/MNIST/valid'\n",
    "# trainset = MNIST(train_path, train=True, transform=tmft, download=False)\n",
    "# validset = MNIST(valid_path, train=False, transform=tmft, download=False)\n",
    "\n",
    "\n",
    "train_path = '/data/att_faces_new/train'\n",
    "valid_path = '/data/att_faces_new/valid'\n",
    "trainset = datasets.ImageFolder(train_path, transform=tmft)\n",
    "validset = datasets.ImageFolder(valid_path, transform=tmft)\n",
    "\n",
    " \n",
    "data = DatasetCollector(trainset, validset)\n",
    "model = SimpleCNN(in_chan=1, num_classes=40)\n",
    "criterion = nn.CrossEntropyLoss()\n",
    "optimizer = optim.Adam\n",
    "scheduler = StepLRCallback(step_size=30)\n",
    "metric_acc = AccuracyCallback()\n",
    "trainer = ConvTrainer(data=data, model=model, optimizer=optimizer, criterion=criterion, metrics=[metric_acc], callbacks=[scheduler])\n",
    "trainer.fit(20, lr=0.01)"
   ]
  },
  {
   "cell_type": "code",
   "execution_count": 29,
   "metadata": {},
   "outputs": [
    {
     "data": {
      "text/html": [
       "Total time: 00:02 <p><table border=\"1\" class=\"dataframe\">\n",
       "  <thead>\n",
       "    <tr style=\"text-align: left;\">\n",
       "      <th>epoch</th>\n",
       "      <th>trn_loss</th>\n",
       "      <th>val_loss</th>\n",
       "      <th>trn_acc</th>\n",
       "      <th>val_acc</th>\n",
       "      <th>time</th>\n",
       "      <th>remain</th>\n",
       "    </tr>\n",
       "  </thead>\n",
       "  <tbody>\n",
       "    <tr>\n",
       "      <td>1</td>\n",
       "      <td>3.942477</td>\n",
       "      <td>4.004533</td>\n",
       "      <td>0.015625</td>\n",
       "      <td>0.015625</td>\n",
       "      <td>0:00:00.35</td>\n",
       "      <td>0:00:01.43</td>\n",
       "    </tr>\n",
       "    <tr>\n",
       "      <td>2</td>\n",
       "      <td>3.874200</td>\n",
       "      <td>3.746153</td>\n",
       "      <td>0.015625</td>\n",
       "      <td>0.015625</td>\n",
       "      <td>0:00:00.41</td>\n",
       "      <td>0:00:01.31</td>\n",
       "    </tr>\n",
       "    <tr>\n",
       "      <td>3</td>\n",
       "      <td>3.697941</td>\n",
       "      <td>3.762195</td>\n",
       "      <td>0.039583</td>\n",
       "      <td>0.015625</td>\n",
       "      <td>0:00:00.36</td>\n",
       "      <td>0:00:00.68</td>\n",
       "    </tr>\n",
       "    <tr>\n",
       "      <td>4</td>\n",
       "      <td>3.696417</td>\n",
       "      <td>3.652946</td>\n",
       "      <td>0.053125</td>\n",
       "      <td>0.031250</td>\n",
       "      <td>0:00:00.36</td>\n",
       "      <td>0:00:00.30</td>\n",
       "    </tr>\n",
       "    <tr>\n",
       "      <td>5</td>\n",
       "      <td>3.631127</td>\n",
       "      <td>3.548510</td>\n",
       "      <td>0.042708</td>\n",
       "      <td>0.117188</td>\n",
       "      <td>0:00:00.38</td>\n",
       "      <td>0:00:00.03</td>\n",
       "    </tr>\n",
       "  </tbody>\n",
       "</table>"
      ],
      "text/plain": [
       "<IPython.core.display.HTML object>"
      ]
     },
     "metadata": {},
     "output_type": "display_data"
    },
    {
     "data": {
      "image/png": "[encoded data removed]",
      "text/plain": [
       "<Figure size 432x288 with 1 Axes>"
      ]
     },
     "metadata": {},
     "output_type": "display_data"
    }
   ],
   "source": [
    "data = DatasetCollector(trainset, validset)\n",
    "model = SimpleCNN(in_chan=1, num_classes=40)\n",
    "criterion = nn.CrossEntropyLoss()\n",
    "optimizer = optim.Adam\n",
    "scheduler = StepLRCallback(step_size=30)\n",
    "metric_acc = AccuracyCallback()\n",
    "trainer = ConvTrainer(data=data, model=model, optimizer=optimizer, criterion=criterion, metrics=[metric_acc], callbacks=[scheduler])\n",
    "trainer.fit(5, lr=[0.001, 0.005, 0.01])"
   ]
  },
  {
   "cell_type": "code",
   "execution_count": 36,
   "metadata": {},
   "outputs": [
    {
     "data": {
      "text/html": [
       "Total time: 00:02 <p><table border=\"1\" class=\"dataframe\">\n",
       "  <thead>\n",
       "    <tr style=\"text-align: left;\">\n",
       "      <th>epoch</th>\n",
       "      <th>trn_loss</th>\n",
       "      <th>val_loss</th>\n",
       "      <th>trn_acc</th>\n",
       "      <th>val_acc</th>\n",
       "      <th>time</th>\n",
       "      <th>remain</th>\n",
       "    </tr>\n",
       "  </thead>\n",
       "  <tbody>\n",
       "    <tr>\n",
       "      <td>1</td>\n",
       "      <td>0.002173</td>\n",
       "      <td>0.343727</td>\n",
       "      <td>1.000000</td>\n",
       "      <td>0.914062</td>\n",
       "      <td>0:00:00.34</td>\n",
       "      <td>0:00:01.37</td>\n",
       "    </tr>\n",
       "    <tr>\n",
       "      <td>2</td>\n",
       "      <td>0.002031</td>\n",
       "      <td>0.317125</td>\n",
       "      <td>1.000000</td>\n",
       "      <td>0.914062</td>\n",
       "      <td>0:00:00.46</td>\n",
       "      <td>0:00:01.51</td>\n",
       "    </tr>\n",
       "    <tr>\n",
       "      <td>3</td>\n",
       "      <td>0.001985</td>\n",
       "      <td>0.354091</td>\n",
       "      <td>1.000000</td>\n",
       "      <td>0.914062</td>\n",
       "      <td>0:00:00.42</td>\n",
       "      <td>0:00:00.89</td>\n",
       "    </tr>\n",
       "    <tr>\n",
       "      <td>4</td>\n",
       "      <td>0.001897</td>\n",
       "      <td>0.352873</td>\n",
       "      <td>1.000000</td>\n",
       "      <td>0.914062</td>\n",
       "      <td>0:00:00.39</td>\n",
       "      <td>0:00:00.35</td>\n",
       "    </tr>\n",
       "    <tr>\n",
       "      <td>5</td>\n",
       "      <td>0.001939</td>\n",
       "      <td>0.550046</td>\n",
       "      <td>1.000000</td>\n",
       "      <td>0.867188</td>\n",
       "      <td>0:00:00.40</td>\n",
       "      <td>0:0</td>\n",
       "    </tr>\n",
       "  </tbody>\n",
       "</table>"
      ],
      "text/plain": [
       "<IPython.core.display.HTML object>"
      ]
     },
     "metadata": {},
     "output_type": "display_data"
    },
    {
     "data": {
      "image/png": "[encoded data removed]",
      "text/plain": [
       "<Figure size 432x288 with 1 Axes>"
      ]
     },
     "metadata": {},
     "output_type": "display_data"
    }
   ],
   "source": [
    "trainer.fit(5, lr=[0.0001, 0.005, 0.01])"
   ]
  },
  {
   "cell_type": "code",
   "execution_count": 17,
   "metadata": {},
   "outputs": [
    {
     "data": {
      "text/plain": [
       "'0:00:10.010287'"
      ]
     },
     "execution_count": 17,
     "metadata": {},
     "output_type": "execute_result"
    }
   ],
   "source": [
    "import time\n",
    "a = time.time()\n",
    "time.sleep(10)\n",
    "b = time.time()\n",
    "c = b - a \n",
    "\n",
    "from datetime import timedelta\n",
    "str(timedelta(seconds=c))"
   ]
  },
  {
   "cell_type": "code",
   "execution_count": 5,
   "metadata": {},
   "outputs": [
    {
     "data": {
      "text/plain": [
       "{'classname': 'MetricState',\n",
       " 'name': 'metric',\n",
       " 'created': '2019-04-10 09:41:16.008698',\n",
       " 'train': {'loss': {'val': [3.697492837905884,\n",
       "    3.6918153762817383,\n",
       "    3.7017388343811035,\n",
       "    3.6922731399536133,\n",
       "    3.671072006225586],\n",
       "   'mean': [3.697492837905884,\n",
       "    3.6946539878845215,\n",
       "    3.6970157623291016,\n",
       "    3.6958301067352295,\n",
       "    3.690878391265869],\n",
       "   'std': [nan,\n",
       "    0.004014571662992239,\n",
       "    0.004978906828910112,\n",
       "    0.004706301260739565,\n",
       "    0.011798477731645107],\n",
       "   'epoch': []},\n",
       "  'acc': {'val': [0.046875, 0.015625, 0.03125, 0.015625, 0.0],\n",
       "   'mean': [0.046875, 0.03125, 0.03125, 0.02734375, 0.02187499962747097],\n",
       "   'std': [nan,\n",
       "    0.022097086533904076,\n",
       "    0.015625,\n",
       "    0.014959798194468021,\n",
       "    0.01781524159014225],\n",
       "   'epoch': []}},\n",
       " 'valid': {'loss': {'val': [3.6974990367889404, 3.6793951988220215],\n",
       "   'mean': [3.691981554031372, 3.690183639526367],\n",
       "   'std': [0.010893513448536396, 0.011023728176951408],\n",
       "   'epoch': []},\n",
       "  'acc': {'val': [0.03125, 0.0],\n",
       "   'mean': [0.0234375, 0.02008928544819355],\n",
       "   'std': [0.016387637704610825, 0.017385894432663918],\n",
       "   'epoch': []}},\n",
       " 'manager_id': '2de20da8bc055ba8d19e14d06be83d358d9b054f',\n",
       " 'base_path': '/home/nunenuh/.torchwisdom/state/2de20da8bc055ba8d19e14d06be83d358d9b054f'}"
      ]
     },
     "execution_count": 5,
     "metadata": {},
     "output_type": "execute_result"
    }
   ],
   "source": [
    "trainer.state_manager.get_state('metric').data"
   ]
  },
  {
   "cell_type": "code",
   "execution_count": 12,
   "metadata": {},
   "outputs": [
    {
     "data": {
      "text/plain": [
       "torch.Size([64])"
      ]
     },
     "execution_count": 12,
     "metadata": {},
     "output_type": "execute_result"
    }
   ],
   "source": [
    "torch.Tensor(64,40).argmax(dim=1).shape"
   ]
  },
  {
   "cell_type": "code",
   "execution_count": 22,
   "metadata": {},
   "outputs": [],
   "source": [
    "params = model.parameters()\n",
    "param_groups = list(params)\n",
    "if not isinstance(param_groups[0], dict):\n",
    "    param_groups = [{'params': param_groups}]\n"
   ]
  },
  {
   "cell_type": "code",
   "execution_count": 25,
   "metadata": {},
   "outputs": [
    {
     "data": {
      "text/plain": [
       "SimpleCNN(\n",
       "  (feature): Sequential(\n",
       "    (0): Conv2d(1, 32, kernel_size=(3, 3), stride=(1, 1))\n",
       "    (1): MaxPool2d(kernel_size=2, stride=2, padding=0, dilation=1, ceil_mode=False)\n",
       "    (2): Conv2d(32, 16, kernel_size=(3, 3), stride=(1, 1))\n",
       "    (3): MaxPool2d(kernel_size=2, stride=2, padding=0, dilation=1, ceil_mode=False)\n",
       "    (4): Conv2d(16, 8, kernel_size=(3, 3), stride=(1, 1))\n",
       "  )\n",
       "  (classifer): Linear(in_features=128, out_features=40, bias=True)\n",
       ")"
      ]
     },
     "execution_count": 25,
     "metadata": {},
     "output_type": "execute_result"
    }
   ],
   "source": [
    "model"
   ]
  },
  {
   "cell_type": "code",
   "execution_count": 37,
   "metadata": {},
   "outputs": [],
   "source": [
    "import torch.nn as nn\n",
    "\n",
    "class ParameterModule(nn.Module):\n",
    "    \"Register a lone parameter `p` in a module.\"\n",
    "    def __init__(self, p:nn.Parameter):\n",
    "        super().__init__()\n",
    "        self.val = p\n",
    "    \n",
    "    def forward(self, x): return x\n",
    "    \n",
    "def children(m:nn.Module)->nn.ModuleList:\n",
    "    \"Get children of `m`.\"\n",
    "    return list(m.children())\n",
    "\n",
    "def num_children(m:nn.Module)->int:\n",
    "    \"Get number of children modules in `m`.\"\n",
    "    return len(children(m))\n",
    "\n",
    "def children_and_parameters(m:nn.Module):\n",
    "    \"Return the children of `m` and its direct parameters not registered in modules.\"\n",
    "    children = list(m.children())\n",
    "    children_p = sum([[id(p) for p in c.parameters()] for c in m.children()],[])\n",
    "    for p in m.parameters():\n",
    "        if id(p) not in children_p: children.append(ParameterModule(p))\n",
    "    return children\n",
    "\n",
    "flatten_model = lambda m: sum(map(flatten_model,children_and_parameters(m)),[]) if num_children(m) else [m]"
   ]
  },
  {
   "cell_type": "code",
   "execution_count": 40,
   "metadata": {},
   "outputs": [],
   "source": [
    "# flatten_model(mobilenetv2())"
   ]
  },
  {
   "cell_type": "code",
   "execution_count": 47,
   "metadata": {},
   "outputs": [
    {
     "data": {
      "text/plain": [
       "[Parameter containing:\n",
       " tensor([[[[ 0.1499, -0.1805,  0.0106],\n",
       "           [-0.1447, -0.2285,  0.0038],\n",
       "           [ 0.2069,  0.3150, -0.0139]]]], requires_grad=True),\n",
       " Parameter containing:\n",
       " tensor([0.2263], requires_grad=True)]"
      ]
     },
     "execution_count": 47,
     "metadata": {},
     "output_type": "execute_result"
    }
   ],
   "source": [
    "conv = nn.Conv2d(1,1, kernel_size=3)\n",
    "params = list(conv.parameters())\n",
    "params"
   ]
  },
  {
   "cell_type": "code",
   "execution_count": 49,
   "metadata": {},
   "outputs": [
    {
     "data": {
      "text/plain": [
       "[('weight', Parameter containing:\n",
       "  tensor([[[[ 0.1499, -0.1805,  0.0106],\n",
       "            [-0.1447, -0.2285,  0.0038],\n",
       "            [ 0.2069,  0.3150, -0.0139]]]], requires_grad=True)),\n",
       " ('bias', Parameter containing:\n",
       "  tensor([0.2263], requires_grad=True))]"
      ]
     },
     "execution_count": 49,
     "metadata": {},
     "output_type": "execute_result"
    }
   ],
   "source": [
    "list(conv.named_parameters())"
   ]
  },
  {
   "cell_type": "code",
   "execution_count": 68,
   "metadata": {},
   "outputs": [],
   "source": [
    "named_params = list(mobilenetv2().named_parameters())"
   ]
  },
  {
   "cell_type": "code",
   "execution_count": 73,
   "metadata": {},
   "outputs": [
    {
     "name": "stdout",
     "output_type": "stream",
     "text": [
      "158\n"
     ]
    }
   ],
   "source": [
    "ln = len(named_params)\n",
    "print(ln)\n",
    "name = named_params[0][0]\n",
    "param = named_params[0][1]"
   ]
  },
  {
   "cell_type": "code",
   "execution_count": 70,
   "metadata": {},
   "outputs": [
    {
     "data": {
      "text/plain": [
       "158"
      ]
     },
     "execution_count": 70,
     "metadata": {},
     "output_type": "execute_result"
    }
   ],
   "source": []
  },
  {
   "cell_type": "code",
   "execution_count": null,
   "metadata": {},
   "outputs": [],
   "source": []
  }
 ],
 "metadata": {
  "kernelspec": {
   "display_name": "Python 3",
   "language": "python",
   "name": "python3"
  },
  "language_info": {
   "codemirror_mode": {
    "name": "ipython",
    "version": 3
   },
   "file_extension": ".py",
   "mimetype": "text/x-python",
   "name": "python",
   "nbconvert_exporter": "python",
   "pygments_lexer": "ipython3",
   "version": "3.7.3"
  }
 },
 "nbformat": 4,
 "nbformat_minor": 2
}
