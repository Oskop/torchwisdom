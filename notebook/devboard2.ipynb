{
 "cells": [
  {
   "cell_type": "code",
   "execution_count": 2,
   "metadata": {},
   "outputs": [],
   "source": [
    "%matplotlib inline\n",
    "%load_ext autoreload\n",
    "%autoreload 2"
   ]
  },
  {
   "cell_type": "code",
   "execution_count": 3,
   "metadata": {},
   "outputs": [],
   "source": [
    "from torchwisdom.transforms import transforms as ptransforms\n",
    "from torchwisdom.utils.data import datasets\n",
    "import numpy as np"
   ]
  },
  {
   "cell_type": "code",
   "execution_count": 6,
   "metadata": {},
   "outputs": [],
   "source": [
    "ptmft = ptransforms.PairCompose([\n",
    "    ptransforms.PairResize((220)),\n",
    "    ptransforms.PairCenterCrop((128)),\n",
    "    ptransforms.PairRandomHorizontalFlip(),\n",
    "    ptransforms.PairRandomVerticalFlip(),\n",
    "    ptransforms.PairRandomRotation(20),\n",
    "])\n",
    "\n",
    "train_path='/data/att_faces/train'\n",
    "trainset = datasets.SiamesePairDataset(train_path, ext=\"pgm\", pair_transform=ptmft)\n",
    "# validset = datasets.SiamesePairDataset(root, ext=\"pgm\", pair_transform=ptmft)\n",
    "\n",
    "# loader = "
   ]
  },
  {
   "cell_type": "code",
   "execution_count": 7,
   "metadata": {},
   "outputs": [
    {
     "data": {
      "text/plain": [
       "8000"
      ]
     },
     "execution_count": 7,
     "metadata": {},
     "output_type": "execute_result"
    }
   ],
   "source": []
  },
  {
   "cell_type": "code",
   "execution_count": 1,
   "metadata": {},
   "outputs": [],
   "source": []
  },
  {
   "cell_type": "code",
   "execution_count": null,
   "metadata": {},
   "outputs": [],
   "source": []
  },
  {
   "cell_type": "code",
   "execution_count": null,
   "metadata": {},
   "outputs": [],
   "source": []
  }
 ],
 "metadata": {
  "kernelspec": {
   "display_name": "Python 3",
   "language": "python",
   "name": "python3"
  },
  "language_info": {
   "codemirror_mode": {
    "name": "ipython",
    "version": 3
   },
   "file_extension": ".py",
   "mimetype": "text/x-python",
   "name": "python",
   "nbconvert_exporter": "python",
   "pygments_lexer": "ipython3",
   "version": "3.6.7"
  }
 },
 "nbformat": 4,
 "nbformat_minor": 2
}
