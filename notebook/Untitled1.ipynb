{
 "cells": [
  {
   "cell_type": "code",
   "execution_count": 2,
   "metadata": {},
   "outputs": [],
   "source": [
    "import nltk"
   ]
  },
  {
   "cell_type": "code",
   "execution_count": 13,
   "metadata": {},
   "outputs": [],
   "source": [
    "import re\n",
    "import csv\n",
    "\n",
    "import nltk.classify\n",
    "\n",
    "\n",
    "def replaceTwoOrMore(s):\n",
    "    pattern = re.compile(r\"(.)\\1{1,}\", re.DOTALL)\n",
    "    return pattern.sub(r\"\\1\\1\", s)\n",
    "\n",
    "\n",
    "def processTweet(tweet):\n",
    "    tweet = tweet.lower()\n",
    "    tweet = re.sub('((www\\.[^\\s]+)|(https?://[^\\s]+))', 'URL', tweet)\n",
    "    tweet = re.sub('@[^\\s]+', 'AT_USER', tweet)\n",
    "    tweet = re.sub('[\\s]+', ' ', tweet)\n",
    "    tweet = re.sub(r'#([^\\s]+)', r'\\1', tweet)\n",
    "    tweet = tweet.strip('\\'\"')\n",
    "    return tweet\n",
    "\n",
    "\n",
    "def getStopWordList(stopWordListFileName):\n",
    "    stopWords = []\n",
    "    stopWords.append('AT_USER')\n",
    "    stopWords.append('URL')\n",
    "\n",
    "    fp = open(stopWordListFileName, 'r')\n",
    "    line = fp.readline()\n",
    "    while line:\n",
    "        word = line.strip()\n",
    "        stopWords.append(word)\n",
    "        line = fp.readline()\n",
    "    fp.close()\n",
    "    return stopWords\n",
    "\n",
    "\n",
    "def getFeatureVector(tweet, stopWords):\n",
    "    featureVector = []\n",
    "    words = tweet.split()\n",
    "    for w in words:\n",
    "\n",
    "        w = replaceTwoOrMore(w)\n",
    "\n",
    "        w = w.strip('\\'\"?,.')\n",
    "\n",
    "        val = re.search(r\"^[a-zA-Z][a-zA-Z0-9]*[a-zA-Z]+[a-zA-Z0-9]*$\", w)\n",
    "\n",
    "        if (w in stopWords or val is None):\n",
    "            continue\n",
    "        else:\n",
    "            featureVector.append(w.lower())\n",
    "    return featureVector\n",
    "\n",
    "\n",
    "def extract_features(tweet):\n",
    "    tweet_words = set(tweet)\n",
    "    features = {}\n",
    "    for word in featureList:\n",
    "        features['contains(%s)' % word] = (word in tweet_words)\n",
    "    return features\n",
    "\n",
    "\n",
    "inpTweets = csv.reader(open('data/training.csv', 'r'), delimiter=',', quotechar='|')\n",
    "stopWords = getStopWordList('data/stopwordsID.txt')\n",
    "count = 0;\n",
    "featureList = []\n",
    "tweets = []\n",
    "for row in inpTweets:\n",
    "    sentiment = row[0]\n",
    "    tweet = row[1]\n",
    "    processedTweet = processTweet(tweet)  # preprocessing\n",
    "    featureVector = getFeatureVector(processedTweet, stopWords)  # get feature vector\n",
    "    featureList.extend(featureVector)\n",
    "    tweets.append((featureVector, sentiment));\n",
    "\n",
    "featureList = list(set(featureList))\n",
    "training_set = nltk.classify.util.apply_features(extract_features, tweets)\n",
    "NBClassifier = nltk.NaiveBayesClassifier.train(training_set)\n",
    "\n",
    "testTweet = 'pantai di lombok bersih bersih. pasirnya juga indah'\n",
    "processedTestTweet = processTweet(testTweet)\n",
    "sentiment = NBClassifier.classify(extract_features(getFeatureVector(processedTestTweet, stopWords)))"
   ]
  },
  {
   "cell_type": "code",
   "execution_count": 11,
   "metadata": {},
   "outputs": [
    {
     "data": {
      "text/plain": [
       "0.85"
      ]
     },
     "execution_count": 11,
     "metadata": {},
     "output_type": "execute_result"
    }
   ],
   "source": []
  },
  {
   "cell_type": "code",
   "execution_count": 12,
   "metadata": {},
   "outputs": [
    {
     "name": "stdout",
     "output_type": "stream",
     "text": [
      "Test Tweets = pantai di lombok bersih bersih. pasirnya juga indah, Sentiment = positive\n",
      "\n",
      "Akurasi Hasil Klasifikasi : 85.0\n"
     ]
    }
   ],
   "source": [
    "print(\"Test Tweets = %s, Sentiment = %s\\n\" % (testTweet, sentiment))\n",
    "# print(\"Show Most Informative Features\", NBClassifier.show_most_informative_features(32))\n",
    "# print()\n",
    "# print(\"Extract Features\", extract_features(testTweet.split()))\n",
    "\n",
    "print(\"Akurasi Hasil Klasifikasi :\", (nltk.classify.accuracy(NBClassifier, training_set)) * 100)\n",
    "# print(\"Akurasi Hasil Klasifikasi :\", accuracy_score(testTweet, sentiment))\n",
    "\n",
    "# kal = getFeatureVector(processTweet(testTweet), stopWords)\n",
    "# kal = \" \".join(str(x) for x in kal)\n",
    "# print(kal)\n",
    "# d = {}\n",
    "# for word in kal.split():\n",
    "#     word = int(word) if word.isdigit() else word\n",
    "#     if word in d:\n",
    "#         d[word] += 1\n",
    "#     else:\n",
    "#         d[word] = 1\n",
    "\n",
    "# print(d)"
   ]
  },
  {
   "cell_type": "code",
   "execution_count": null,
   "metadata": {},
   "outputs": [],
   "source": []
  }
 ],
 "metadata": {
  "kernelspec": {
   "display_name": "Python 3",
   "language": "python",
   "name": "python3"
  },
  "language_info": {
   "codemirror_mode": {
    "name": "ipython",
    "version": 3
   },
   "file_extension": ".py",
   "mimetype": "text/x-python",
   "name": "python",
   "nbconvert_exporter": "python",
   "pygments_lexer": "ipython3",
   "version": "3.7.3"
  }
 },
 "nbformat": 4,
 "nbformat_minor": 2
}
